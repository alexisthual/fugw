{
 "cells": [
  {
   "cell_type": "code",
   "execution_count": 29,
   "metadata": {},
   "outputs": [],
   "source": [
    "import numpy as np\n",
    "import matplotlib.pyplot as plt\n",
    "import torch\n",
    "from nilearn import datasets, image, plotting\n",
    "from nilearn.image import get_data\n",
    "from fugw.scripts import lmds\n",
    "import dijkstra3d"
   ]
  },
  {
   "cell_type": "code",
   "execution_count": 144,
   "metadata": {},
   "outputs": [
    {
     "name": "stderr",
     "output_type": "stream",
     "text": [
      "/opt/homebrew/lib/python3.11/site-packages/nilearn/datasets/func.py:763: UserWarning: `legacy_format` will default to `False` in release 0.11. Dataset fetchers will then return pandas dataframes by default instead of recarrays.\n",
      "  warnings.warn(_LEGACY_FORMAT_MSG)\n"
     ]
    }
   ],
   "source": [
    "n_subjects = 2\n",
    "\n",
    "contrasts = [\n",
    "    \"sentence reading vs checkerboard\",\n",
    "    \"sentence listening\",\n",
    "    \"calculation vs sentences\",\n",
    "    \"left vs right button press\",\n",
    "    \"checkerboard\",\n",
    "]\n",
    "n_training_contrasts = 4\n",
    "\n",
    "brain_data = datasets.fetch_localizer_contrasts(\n",
    "    contrasts,\n",
    "    n_subjects=n_subjects,\n",
    "    get_anats=True,\n",
    ")\n",
    "\n",
    "source_imgs_paths = brain_data[\"cmaps\"][0 : len(contrasts)]\n",
    "target_imgs_paths = brain_data[\"cmaps\"][len(contrasts) : 2 * len(contrasts)]\n",
    "\n",
    "source_im = image.load_img(source_imgs_paths)\n",
    "target_im = image.load_img(target_imgs_paths)\n",
    "assert source_im.shape == target_im.shape\n",
    "\n",
    "\n",
    "source_features = np.nan_to_num(source_im.get_fdata())\n",
    "target_features = np.nan_to_num(target_im.get_fdata())\n",
    "\n",
    "#Z = 0\n",
    "#plt.imshow(source_features[:,:,Z,0], cmap='gray')\n",
    "#plt.show()\n",
    "\n",
    "\n",
    "SCALE_FACTOR = 1\n",
    "\n",
    "\n",
    "source_features = source_features[::SCALE_FACTOR,::SCALE_FACTOR,::SCALE_FACTOR]\n",
    "target_features = target_features[::SCALE_FACTOR,::SCALE_FACTOR,::SCALE_FACTOR]\n",
    "data = source_features[:,:,:,0] !=0\n",
    "\n",
    "\n",
    "source_features = torch.Tensor(source_features[data].T)\n",
    "target_features = torch.Tensor(target_features[data].T)"
   ]
  },
  {
   "cell_type": "code",
   "execution_count": 145,
   "metadata": {},
   "outputs": [],
   "source": [
    "mat = np.array(np.nonzero(data)).T"
   ]
  },
  {
   "cell_type": "code",
   "execution_count": 146,
   "metadata": {},
   "outputs": [
    {
     "data": {
      "text/plain": [
       "<matplotlib.image.AxesImage at 0x2a5a90e50>"
      ]
     },
     "execution_count": 146,
     "metadata": {},
     "output_type": "execute_result"
    },
    {
     "data": {
      "image/png": "[encoded data removed]",
      "text/plain": [
       "<Figure size 640x480 with 1 Axes>"
      ]
     },
     "metadata": {},
     "output_type": "display_data"
    }
   ],
   "source": [
    "plt.imshow(data[:,:,3])"
   ]
  },
  {
   "cell_type": "code",
   "execution_count": 166,
   "metadata": {},
   "outputs": [
    {
     "data": {
      "text/plain": [
       "array([[[inf, inf, inf, ..., inf, inf, inf],\n",
       "        [inf, inf, inf, ..., inf, inf, inf],\n",
       "        [inf, inf, inf, ..., inf, inf, inf],\n",
       "        ...,\n",
       "        [inf, inf, inf, ..., inf, inf, inf],\n",
       "        [inf, inf, inf, ..., inf, inf, inf],\n",
       "        [inf, inf, inf, ..., inf, inf, inf]],\n",
       "\n",
       "       [[inf, inf, inf, ..., inf, inf, inf],\n",
       "        [inf, inf, inf, ..., inf, inf, inf],\n",
       "        [inf, inf, inf, ..., inf, inf, inf],\n",
       "        ...,\n",
       "        [inf, inf, inf, ..., inf, inf, inf],\n",
       "        [inf, inf, inf, ..., inf, inf, inf],\n",
       "        [inf, inf, inf, ..., inf, inf, inf]],\n",
       "\n",
       "       [[inf, inf, inf, ..., inf, inf, inf],\n",
       "        [inf, inf, inf, ..., inf, inf, inf],\n",
       "        [inf, inf, inf, ..., inf, inf, inf],\n",
       "        ...,\n",
       "        [inf, inf, inf, ..., inf, inf, inf],\n",
       "        [inf, inf, inf, ..., inf, inf, inf],\n",
       "        [inf, inf, inf, ..., inf, inf, inf]],\n",
       "\n",
       "       ...,\n",
       "\n",
       "       [[inf, inf, inf, ..., inf, inf, inf],\n",
       "        [inf, inf, inf, ..., inf, inf, inf],\n",
       "        [inf, inf, inf, ..., inf, inf, inf],\n",
       "        ...,\n",
       "        [inf, inf, inf, ..., inf, inf, inf],\n",
       "        [inf, inf, inf, ..., inf, inf, inf],\n",
       "        [inf, inf, inf, ..., inf, inf, inf]],\n",
       "\n",
       "       [[inf, inf, inf, ..., inf, inf, inf],\n",
       "        [inf, inf, inf, ..., inf, inf, inf],\n",
       "        [inf, inf, inf, ..., inf, inf, inf],\n",
       "        ...,\n",
       "        [inf, inf, inf, ..., inf, inf, inf],\n",
       "        [inf, inf, inf, ..., inf, inf, inf],\n",
       "        [inf, inf, inf, ..., inf, inf, inf]],\n",
       "\n",
       "       [[inf, inf, inf, ..., inf, inf, inf],\n",
       "        [inf, inf, inf, ..., inf, inf, inf],\n",
       "        [inf, inf, inf, ..., inf, inf, inf],\n",
       "        ...,\n",
       "        [inf, inf, inf, ..., inf, inf, inf],\n",
       "        [inf, inf, inf, ..., inf, inf, inf],\n",
       "        [inf, inf, inf, ..., inf, inf, inf]]], dtype=float32)"
      ]
     },
     "execution_count": 166,
     "metadata": {},
     "output_type": "execute_result"
    }
   ],
   "source": [
    "field = data\n",
    "source = (5, 20, 20)\n",
    "\n",
    "df = dijkstra3d.euclidean_distance_field(field, source=source, anisotropy=(1,1,1))\n",
    "df"
   ]
  },
  {
   "cell_type": "code",
   "execution_count": 167,
   "metadata": {},
   "outputs": [
    {
     "data": {
      "text/plain": [
       "(61099, 3)"
      ]
     },
     "execution_count": 167,
     "metadata": {},
     "output_type": "execute_result"
    }
   ],
   "source": [
    "mat.shape"
   ]
  },
  {
   "cell_type": "code",
   "execution_count": 168,
   "metadata": {},
   "outputs": [
    {
     "data": {
      "text/plain": [
       "(53, 63, 46)"
      ]
     },
     "execution_count": 168,
     "metadata": {},
     "output_type": "execute_result"
    }
   ],
   "source": [
    "df.shape"
   ]
  },
  {
   "cell_type": "code",
   "execution_count": 162,
   "metadata": {},
   "outputs": [
    {
     "data": {
      "image/png": "[encoded data removed]",
      "text/plain": [
       "<Figure size 640x480 with 1 Axes>"
      ]
     },
     "metadata": {},
     "output_type": "display_data"
    }
   ],
   "source": [
    "plt.imshow(df[:,:,3])\n",
    "plt.imshow(data[:,:,3], alpha=0.5)\n",
    "plt.show()\n",
    "#df = df[np.isfinite(df)]\n",
    "data2 = data[np.nonzero(df)]"
   ]
  },
  {
   "cell_type": "code",
   "execution_count": 180,
   "metadata": {},
   "outputs": [
    {
     "name": "stderr",
     "output_type": "stream",
     "text": [
      "/var/folders/1s/bxpqz56s6y12_hm461pg_g800000gn/T/ipykernel_16710/1294187756.py:1: RuntimeWarning: invalid value encountered in multiply\n",
      "  np.array(np.nonzero(df * field)).T.shape\n"
     ]
    },
    {
     "data": {
      "text/plain": [
       "(153593, 3)"
      ]
     },
     "execution_count": 180,
     "metadata": {},
     "output_type": "execute_result"
    }
   ],
   "source": [
    "np.array(np.nonzero(df * field)).T.shape"
   ]
  },
  {
   "cell_type": "code",
   "execution_count": 183,
   "metadata": {},
   "outputs": [
    {
     "data": {
      "text/plain": [
       "(53, 63, 46)"
      ]
     },
     "execution_count": 183,
     "metadata": {},
     "output_type": "execute_result"
    }
   ],
   "source": [
    "from dijkstra3d import distance_field\n",
    "\n",
    "field.shape\n",
    "source = [20, 20, 20]\n",
    "dists = dijkstra3d.distance_field(field, source=source, anisotropy=(1,1,1))"
   ]
  },
  {
   "cell_type": "code",
   "execution_count": null,
   "metadata": {},
   "outputs": [],
   "source": []
  }
 ],
 "metadata": {
  "kernelspec": {
   "display_name": "Python 3",
   "language": "python",
   "name": "python3"
  },
  "language_info": {
   "codemirror_mode": {
    "name": "ipython",
    "version": 3
   },
   "file_extension": ".py",
   "mimetype": "text/x-python",
   "name": "python",
   "nbconvert_exporter": "python",
   "pygments_lexer": "ipython3",
   "version": "3.11.3"
  },
  "orig_nbformat": 4
 },
 "nbformat": 4,
 "nbformat_minor": 2
}
