{
  "cells": [
    {
      "cell_type": "markdown",
      "metadata": {},
      "source": [
        "\n# Generate embeddings from mesh\n\nIn this example, we show how to derive an embedding\nwhich approximates the kernel matrix of geodesic distances\non a given mesh.\nThis technique is useful when trying to align distributions\nwith a large number of points. Indeed, the kernel matrix\nof pairwise distances won't fit in memory, but an embedding\ncomputed in the right dimension can probably estimate it.\n"
      ]
    },
    {
      "cell_type": "code",
      "execution_count": null,
      "metadata": {
        "collapsed": false
      },
      "outputs": [],
      "source": [
        "import gdist\nimport matplotlib.pyplot as plt\nimport numpy as np\nimport torch\n\nfrom fugw.scripts import lmds\nfrom nilearn import datasets, surface"
      ]
    },
    {
      "cell_type": "markdown",
      "metadata": {},
      "source": [
        "Here, we will compute the exact geodesic distances from\neach vertex to a random sample of ``n_landmarks`` vertices.\nThe derived embedding will be in dimension ``k``.\n\n"
      ]
    },
    {
      "cell_type": "code",
      "execution_count": null,
      "metadata": {
        "collapsed": false
      },
      "outputs": [],
      "source": [
        "torch.manual_seed(0)\n\nn_landmarks = 100\nk = 3"
      ]
    },
    {
      "cell_type": "markdown",
      "metadata": {},
      "source": [
        "Let us load a pre-computed mesh and have a look at it first\n\n"
      ]
    },
    {
      "cell_type": "code",
      "execution_count": null,
      "metadata": {
        "collapsed": false
      },
      "outputs": [],
      "source": [
        "fsaverage3 = datasets.fetch_surf_fsaverage(mesh=\"fsaverage3\")\ncoordinates, triangles = surface.load_surf_mesh(fsaverage3.sphere_left)\ncoordinates.shape"
      ]
    },
    {
      "cell_type": "code",
      "execution_count": null,
      "metadata": {
        "collapsed": false
      },
      "outputs": [],
      "source": [
        "fig = plt.figure(figsize=(5, 5))\nax = fig.add_subplot(projection=\"3d\")\nax.plot_trisurf(\n    coordinates[:, 0],\n    coordinates[:, 1],\n    coordinates[:, 2],\n    triangles=triangles,\n)\nplt.show()"
      ]
    },
    {
      "cell_type": "markdown",
      "metadata": {},
      "source": [
        "Now, let's compute the embedding! This computation is easy to parallelize.\n\n"
      ]
    },
    {
      "cell_type": "code",
      "execution_count": null,
      "metadata": {
        "collapsed": false
      },
      "outputs": [],
      "source": [
        "X = lmds.compute_lmds(\n    coordinates,\n    triangles,\n    n_landmarks=n_landmarks,\n    k=k,\n    n_jobs=2,\n    verbose=True,\n)"
      ]
    },
    {
      "cell_type": "markdown",
      "metadata": {},
      "source": [
        "It should have the correct size\n\n"
      ]
    },
    {
      "cell_type": "code",
      "execution_count": null,
      "metadata": {
        "collapsed": false
      },
      "outputs": [],
      "source": [
        "assert X.shape == (coordinates.shape[0], k)"
      ]
    },
    {
      "cell_type": "markdown",
      "metadata": {},
      "source": [
        "We can actually have a peek at the computed embedding:\n\n"
      ]
    },
    {
      "cell_type": "code",
      "execution_count": null,
      "metadata": {
        "collapsed": false
      },
      "outputs": [],
      "source": [
        "fig = plt.figure(figsize=(5, 5))\nax = fig.add_subplot(projection=\"3d\")\nax.set_title(\"Embedding approximating kernel matrix\")\nax.scatter(\n    X[:, 0],\n    X[:, 1],\n    X[:, 2],\n    s=15,\n)\nplt.show()"
      ]
    },
    {
      "cell_type": "markdown",
      "metadata": {},
      "source": [
        "Finally, we check that the exact matrix of geodesic distances\nbetween pairs of vertices of the mesh\nis well approximated by the kernel matrix derived from the embeddings:\n\n"
      ]
    },
    {
      "cell_type": "code",
      "execution_count": null,
      "metadata": {
        "collapsed": false
      },
      "outputs": [],
      "source": [
        "fig = plt.figure(figsize=(5, 10))\n\nax = fig.add_subplot(211)\nax.set_title(\"True matrix of geodesic distances\")\ntrue_kernel_matrix = gdist.local_gdist_matrix(\n    coordinates.astype(np.float64),\n    triangles.astype(np.int32),\n).toarray()\nim = ax.imshow(true_kernel_matrix)\nplt.colorbar(im, ax=ax, shrink=0.9)\n\nax = fig.add_subplot(212)\nax.set_title(\"Approximated matrix of geodesic distances\")\napproximated_kernel_matrix = torch.cdist(X, X)\nim = ax.imshow(approximated_kernel_matrix)\nplt.colorbar(im, ax=ax, shrink=0.9)\n\nplt.show()"
      ]
    }
  ],
  "metadata": {
    "kernelspec": {
      "display_name": "Python 3",
      "language": "python",
      "name": "python3"
    },
    "language_info": {
      "codemirror_mode": {
        "name": "ipython",
        "version": 3
      },
      "file_extension": ".py",
      "mimetype": "text/x-python",
      "name": "python",
      "nbconvert_exporter": "python",
      "pygments_lexer": "ipython3",
      "version": "3.8.2"
    }
  },
  "nbformat": 4,
  "nbformat_minor": 0
}