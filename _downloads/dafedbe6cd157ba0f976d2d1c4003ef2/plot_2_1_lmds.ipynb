{
  "cells": [
    {
      "cell_type": "code",
      "execution_count": null,
      "metadata": {
        "collapsed": false
      },
      "outputs": [],
      "source": [
        "%matplotlib inline"
      ]
    },
    {
      "cell_type": "markdown",
      "metadata": {},
      "source": [
        "\n# Generate embeddings from mesh\n"
      ]
    },
    {
      "cell_type": "code",
      "execution_count": null,
      "metadata": {
        "collapsed": false
      },
      "outputs": [],
      "source": [
        "import meshzoo\nimport torch\n\nfrom fugw.scripts import lmds\n\ntorch.manual_seed(0)\n\ncoordinates, triangles = meshzoo.octa_sphere(30)\nn_landmarks = 100\nk = 3\n\nX = lmds.compute_lmds(\n    coordinates,\n    triangles,\n    n_landmarks=n_landmarks,\n    k=k,\n    n_jobs=2,\n    verbose=True,\n)\n\nassert X.shape == (coordinates.shape[0], k)"
      ]
    }
  ],
  "metadata": {
    "kernelspec": {
      "display_name": "Python 3",
      "language": "python",
      "name": "python3"
    },
    "language_info": {
      "codemirror_mode": {
        "name": "ipython",
        "version": 3
      },
      "file_extension": ".py",
      "mimetype": "text/x-python",
      "name": "python",
      "nbconvert_exporter": "python",
      "pygments_lexer": "ipython3",
      "version": "3.8.2"
    }
  },
  "nbformat": 4,
  "nbformat_minor": 0
}