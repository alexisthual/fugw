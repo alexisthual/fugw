{
  "cells": [
    {
      "cell_type": "code",
      "execution_count": null,
      "metadata": {
        "collapsed": false
      },
      "outputs": [],
      "source": [
        "%matplotlib inline"
      ]
    },
    {
      "cell_type": "markdown",
      "metadata": {},
      "source": [
        "\n# Transport distributions containing more than 10k points\n"
      ]
    },
    {
      "cell_type": "code",
      "execution_count": null,
      "metadata": {
        "collapsed": false
      },
      "outputs": [],
      "source": [
        "import torch\n\nfrom fugw.scripts import coarse_to_fine\nfrom fugw.mappings import FUGW, FUGWSparse\nfrom fugw.mappings.utils import init_mock_distribution\n\ntorch.manual_seed(0)\n\nn_voxels_source = 300\nn_samples_source = 150\nn_voxels_target = 300\nn_samples_target = 150\nn_features_train = 10\nn_features_test = 5\n\n# Generate random training data for source and target distributions\n_, source_features, _, source_embeddings = init_mock_distribution(\n    n_features_train, n_voxels_source\n)\n_, target_features, _, target_embeddings = init_mock_distribution(\n    n_features_train, n_voxels_target\n)\n\n# Define the optimization problem to solve\ncoarse_model = FUGW(alpha=0.5)\nfine_model = FUGWSparse(alpha=0.5)\n\n# Specify which solvers to use at each step\ncoarse_model_fit_params = {\n    \"uot_solver\": \"mm\",\n    \"tol_uot\": 1e-10,\n    \"nits_uot\": 100,\n}\n\nfine_model_fit_params = {\n    \"uot_solver\": \"mm\",\n    \"tol_uot\": 1e-10,\n}\n\n# Fit transport plans\ncoarse_to_fine.fit(\n    coarse_model=coarse_model,\n    coarse_model_fit_params=coarse_model_fit_params,\n    coarse_pairs_selection_method=\"topk\",\n    source_selection_radius=1,\n    target_selection_radius=1,\n    fine_model=fine_model,\n    fine_model_fit_params=fine_model_fit_params,\n    source_sample_size=n_samples_source,\n    target_sample_size=n_samples_target,\n    source_features=source_features,\n    target_features=target_features,\n    source_geometry_embeddings=source_embeddings,\n    target_geometry_embeddings=target_embeddings,\n    verbose=True,\n)\n\n# Both the coarse and fine-scale transport plans can be accessed\n# after the models have been fitted\nprint(f\"Coarse transport plan's total mass: {coarse_model.pi.sum()}\")\nprint(\n    \"Fine-scale transport plan's total mass:\"\n    f\" {torch.sparse.sum(fine_model.pi)}\"\n)\n\n# Finally, the fitted fine model can transport unseen data\n# between source and target\nsource_features_test = torch.rand(n_features_test, n_voxels_source)\ntarget_features_test = torch.rand(n_features_test, n_voxels_target)\ntransformed_data = fine_model.transform(source_features_test)\nassert transformed_data.shape == target_features_test.shape"
      ]
    }
  ],
  "metadata": {
    "kernelspec": {
      "display_name": "Python 3",
      "language": "python",
      "name": "python3"
    },
    "language_info": {
      "codemirror_mode": {
        "name": "ipython",
        "version": 3
      },
      "file_extension": ".py",
      "mimetype": "text/x-python",
      "name": "python",
      "nbconvert_exporter": "python",
      "pygments_lexer": "ipython3",
      "version": "3.8.2"
    }
  },
  "nbformat": 4,
  "nbformat_minor": 0
}